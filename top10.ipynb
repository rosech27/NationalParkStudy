{
 "cells": [
  {
   "cell_type": "code",
   "execution_count": 1,
   "metadata": {},
   "outputs": [],
   "source": [
    "from splinter import Browser\n",
    "from bs4 import BeautifulSoup as bs\n",
    "import time\n",
    "import requests\n",
    "import os\n",
    "import pandas as pd \n",
    "import pprint\n",
    "import pymongo"
   ]
  },
  {
   "cell_type": "code",
   "execution_count": 2,
   "metadata": {},
   "outputs": [],
   "source": [
    "url = 'https://www.nps.gov/aboutus/visitation-numbers.htm'\n",
    "browser = Browser('chrome')\n",
    "browser.visit(url)\n",
    "html = browser.html"
   ]
  },
  {
   "cell_type": "code",
   "execution_count": 7,
   "metadata": {},
   "outputs": [],
   "source": [
    "conn = 'mongodb://localhost:27017'\n",
    "\n",
    "client = pymongo.MongoClient(conn)\n",
    "db = client.top10_db"
   ]
  },
  {
   "cell_type": "code",
   "execution_count": 4,
   "metadata": {},
   "outputs": [],
   "source": [
    "soup = bs(html, 'lxml')"
   ]
  },
  {
   "cell_type": "code",
   "execution_count": 5,
   "metadata": {
    "scrolled": true
   },
   "outputs": [
    {
     "data": {
      "text/plain": [
       "<bound method Tag.find of <div class=\"table-wrapper\"><table align=\"left\" border=\"1\" cellpadding=\"1\" cellspacing=\"1\" style=\"width:500px;\">\n",
       "<thead>\n",
       "<tr>\n",
       "<th scope=\"col\" style=\"text-align: center;\"> </th>\n",
       "<th scope=\"col\" style=\"text-align: center;\">Park</th>\n",
       "<th scope=\"col\" style=\"text-align: center;\">Recreational Visits</th>\n",
       "</tr>\n",
       "</thead>\n",
       "<tbody>\n",
       "<tr>\n",
       "<td style=\"text-align: center;\">1</td>\n",
       "<td>Golden Gate National Recreation Area</td>\n",
       "<td style=\"text-align: right;\">15,223,697 </td>\n",
       "</tr>\n",
       "<tr>\n",
       "<td style=\"text-align: center;\">2</td>\n",
       "<td>Blue Ridge Parkway</td>\n",
       "<td style=\"text-align: right;\">14,690,418 </td>\n",
       "</tr>\n",
       "<tr>\n",
       "<td style=\"text-align: center;\">3</td>\n",
       "<td>Great Smoky Mountains National Park</td>\n",
       "<td style=\"text-align: right;\">11,421,200 </td>\n",
       "</tr>\n",
       "<tr>\n",
       "<td style=\"text-align: center;\">4</td>\n",
       "<td>Gateway National Recreation Area</td>\n",
       "<td style=\"text-align: right;\">9,243,305 </td>\n",
       "</tr>\n",
       "<tr>\n",
       "<td style=\"text-align: center;\">5</td>\n",
       "<td>Lincoln Memorial</td>\n",
       "<td style=\"text-align: right;\">7,804,683 </td>\n",
       "</tr>\n",
       "<tr>\n",
       "<td style=\"text-align: center;\">6</td>\n",
       "<td>Lake Mead National Recreation Area</td>\n",
       "<td style=\"text-align: right;\">7,578,958 </td>\n",
       "</tr>\n",
       "<tr>\n",
       "<td style=\"text-align: center;\">7</td>\n",
       "<td>George Washington Memorial Parkway</td>\n",
       "<td style=\"text-align: right;\">7,288,623 </td>\n",
       "</tr>\n",
       "<tr>\n",
       "<td style=\"text-align: center;\">8</td>\n",
       "<td>Grand Canyon National Park</td>\n",
       "<td style=\"text-align: right;\">6,380,495 </td>\n",
       "</tr>\n",
       "<tr>\n",
       "<td style=\"text-align: center;\">9</td>\n",
       "<td>Natchez Trace Parkway</td>\n",
       "<td style=\"text-align: right;\">6,362,439 </td>\n",
       "</tr>\n",
       "<tr>\n",
       "<td style=\"text-align: center;\">10 </td>\n",
       "<td>Vietnam Veterans Memorial</td>\n",
       "<td style=\"text-align: right;\">4,719,148 </td>\n",
       "</tr>\n",
       "</tbody>\n",
       "</table></div>>"
      ]
     },
     "execution_count": 5,
     "metadata": {},
     "output_type": "execute_result"
    }
   ],
   "source": [
    "top10 = soup.find('div', class_='table-wrapper').find\n",
    "top10"
   ]
  },
  {
   "cell_type": "code",
   "execution_count": 6,
   "metadata": {},
   "outputs": [
    {
     "data": {
      "text/html": [
       "<div>\n",
       "<style scoped>\n",
       "    .dataframe tbody tr th:only-of-type {\n",
       "        vertical-align: middle;\n",
       "    }\n",
       "\n",
       "    .dataframe tbody tr th {\n",
       "        vertical-align: top;\n",
       "    }\n",
       "\n",
       "    .dataframe thead th {\n",
       "        text-align: right;\n",
       "    }\n",
       "</style>\n",
       "<table border=\"1\" class=\"dataframe\">\n",
       "  <thead>\n",
       "    <tr style=\"text-align: right;\">\n",
       "      <th></th>\n",
       "      <th>Unnamed: 0</th>\n",
       "      <th>Park</th>\n",
       "      <th>Recreational Visits</th>\n",
       "    </tr>\n",
       "  </thead>\n",
       "  <tbody>\n",
       "    <tr>\n",
       "      <th>0</th>\n",
       "      <td>1</td>\n",
       "      <td>Great Smoky Mountains National Park</td>\n",
       "      <td>11421200</td>\n",
       "    </tr>\n",
       "    <tr>\n",
       "      <th>1</th>\n",
       "      <td>2</td>\n",
       "      <td>Grand Canyon National Park</td>\n",
       "      <td>6380495</td>\n",
       "    </tr>\n",
       "    <tr>\n",
       "      <th>2</th>\n",
       "      <td>3</td>\n",
       "      <td>Rocky Mountain National Park</td>\n",
       "      <td>4590493</td>\n",
       "    </tr>\n",
       "    <tr>\n",
       "      <th>3</th>\n",
       "      <td>4</td>\n",
       "      <td>Zion National Park</td>\n",
       "      <td>4320033</td>\n",
       "    </tr>\n",
       "    <tr>\n",
       "      <th>4</th>\n",
       "      <td>5</td>\n",
       "      <td>Yellowstone National Park</td>\n",
       "      <td>4115000</td>\n",
       "    </tr>\n",
       "    <tr>\n",
       "      <th>5</th>\n",
       "      <td>6</td>\n",
       "      <td>Yosemite National Park</td>\n",
       "      <td>4009436</td>\n",
       "    </tr>\n",
       "    <tr>\n",
       "      <th>6</th>\n",
       "      <td>7</td>\n",
       "      <td>Acadia National Park</td>\n",
       "      <td>3537575</td>\n",
       "    </tr>\n",
       "    <tr>\n",
       "      <th>7</th>\n",
       "      <td>8</td>\n",
       "      <td>Grand Teton National Park</td>\n",
       "      <td>3491151</td>\n",
       "    </tr>\n",
       "    <tr>\n",
       "      <th>8</th>\n",
       "      <td>9</td>\n",
       "      <td>Olympic National Park</td>\n",
       "      <td>3104455</td>\n",
       "    </tr>\n",
       "    <tr>\n",
       "      <th>9</th>\n",
       "      <td>10</td>\n",
       "      <td>Glacier National Park</td>\n",
       "      <td>2965309</td>\n",
       "    </tr>\n",
       "  </tbody>\n",
       "</table>\n",
       "</div>"
      ],
      "text/plain": [
       "   Unnamed: 0                                 Park  Recreational Visits\n",
       "0           1  Great Smoky Mountains National Park             11421200\n",
       "1           2           Grand Canyon National Park              6380495\n",
       "2           3         Rocky Mountain National Park              4590493\n",
       "3           4                   Zion National Park              4320033\n",
       "4           5            Yellowstone National Park              4115000\n",
       "5           6               Yosemite National Park              4009436\n",
       "6           7                 Acadia National Park              3537575\n",
       "7           8            Grand Teton National Park              3491151\n",
       "8           9                Olympic National Park              3104455\n",
       "9          10                Glacier National Park              2965309"
      ]
     },
     "execution_count": 6,
     "metadata": {},
     "output_type": "execute_result"
    }
   ],
   "source": [
    "tables = pd.read_html(html)\n",
    "top10list = tables[1]\n",
    "top10list"
   ]
  },
  {
   "cell_type": "code",
   "execution_count": 22,
   "metadata": {
    "collapsed": true
   },
   "outputs": [
    {
     "data": {
      "text/plain": [
       "[{'Unnamed: 0': 1,\n",
       "  'Park': 'Great Smoky Mountains National Park',\n",
       "  'Recreational Visits': 11421200},\n",
       " {'Unnamed: 0': 2,\n",
       "  'Park': 'Grand Canyon National Park',\n",
       "  'Recreational Visits': 6380495},\n",
       " {'Unnamed: 0': 3,\n",
       "  'Park': 'Rocky Mountain National Park',\n",
       "  'Recreational Visits': 4590493},\n",
       " {'Unnamed: 0': 4,\n",
       "  'Park': 'Zion National Park',\n",
       "  'Recreational Visits': 4320033},\n",
       " {'Unnamed: 0': 5,\n",
       "  'Park': 'Yellowstone National Park',\n",
       "  'Recreational Visits': 4115000},\n",
       " {'Unnamed: 0': 6,\n",
       "  'Park': 'Yosemite National Park',\n",
       "  'Recreational Visits': 4009436},\n",
       " {'Unnamed: 0': 7,\n",
       "  'Park': 'Acadia National Park',\n",
       "  'Recreational Visits': 3537575},\n",
       " {'Unnamed: 0': 8,\n",
       "  'Park': 'Grand Teton National Park',\n",
       "  'Recreational Visits': 3491151},\n",
       " {'Unnamed: 0': 9,\n",
       "  'Park': 'Olympic National Park',\n",
       "  'Recreational Visits': 3104455},\n",
       " {'Unnamed: 0': 10,\n",
       "  'Park': 'Glacier National Park',\n",
       "  'Recreational Visits': 2965309}]"
      ]
     },
     "execution_count": 22,
     "metadata": {},
     "output_type": "execute_result"
    }
   ],
   "source": [
    "top10list.to_dict(orient = \"records\")"
   ]
  },
  {
   "cell_type": "code",
   "execution_count": 23,
   "metadata": {},
   "outputs": [
    {
     "name": "stderr",
     "output_type": "stream",
     "text": [
      "C:\\Users\\taraj\\Anaconda3\\envs\\PythonData\\lib\\site-packages\\ipykernel_launcher.py:1: DeprecationWarning: insert is deprecated. Use insert_one or insert_many instead.\n",
      "  \"\"\"Entry point for launching an IPython kernel.\n"
     ]
    },
    {
     "data": {
      "text/plain": [
       "[ObjectId('5cac07b989f9e12ffc5d933f'),\n",
       " ObjectId('5cac07b989f9e12ffc5d9340'),\n",
       " ObjectId('5cac07b989f9e12ffc5d9341'),\n",
       " ObjectId('5cac07b989f9e12ffc5d9342'),\n",
       " ObjectId('5cac07b989f9e12ffc5d9343'),\n",
       " ObjectId('5cac07b989f9e12ffc5d9344'),\n",
       " ObjectId('5cac07b989f9e12ffc5d9345'),\n",
       " ObjectId('5cac07b989f9e12ffc5d9346'),\n",
       " ObjectId('5cac07b989f9e12ffc5d9347'),\n",
       " ObjectId('5cac07b989f9e12ffc5d9348')]"
      ]
     },
     "execution_count": 23,
     "metadata": {},
     "output_type": "execute_result"
    }
   ],
   "source": [
    "db.top10list.insert(top10list.to_dict(orient = \"records\"))"
   ]
  }
 ],
 "metadata": {
  "kernelspec": {
   "display_name": "Python 3",
   "language": "python",
   "name": "python3"
  },
  "language_info": {
   "codemirror_mode": {
    "name": "ipython",
    "version": 3
   },
   "file_extension": ".py",
   "mimetype": "text/x-python",
   "name": "python",
   "nbconvert_exporter": "python",
   "pygments_lexer": "ipython3",
   "version": "3.6.6"
  }
 },
 "nbformat": 4,
 "nbformat_minor": 2
}
